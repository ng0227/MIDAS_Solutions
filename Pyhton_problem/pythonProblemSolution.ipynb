{
 "cells": [
  {
   "cell_type": "code",
   "execution_count": null,
   "metadata": {},
   "outputs": [],
   "source": [
    "import tweepy\n",
    "from tweepy import OAuthHandler\n",
    "import re\n",
    "import pandas as pd\n",
    "import numpy as np\n",
    "import json\n",
    "import sys"
   ]
  },
  {
   "cell_type": "code",
   "execution_count": null,
   "metadata": {},
   "outputs": [],
   "source": [
    "consumer_key = ''\n",
    "consumer_secret = ''\n",
    "access_key = ''\n",
    "access_secret = ''\n",
    "\n",
    "nfinal = []"
   ]
  },
  {
   "cell_type": "code",
   "execution_count": null,
   "metadata": {},
   "outputs": [],
   "source": [
    "#Fetch Tweets\n",
    "def get_all_tweets(screen_name):\n",
    "\n",
    "#authorize twitter, initialize tweepy\n",
    "\tauth = tweepy.OAuthHandler(consumer_key, consumer_secret)\n",
    "\tauth.set_access_token(access_key, access_secret)\n",
    "\tapi = tweepy.API(auth)\n",
    "\t\n",
    "\t#initialize a list to hold all the tweepy Tweets\n",
    "\talltweets = []\t\n",
    "\t\n",
    "\t#make initial request for most recent tweets (200 is the maximum allowed count)\n",
    "\tnew_tweets = api.user_timeline(screen_name = screen_name,count=200)\n",
    "\t\n",
    "\tfor t in new_tweets:\n",
    "\t\tnfinal.append(t._json)\n",
    "\n",
    "\t#save most recent tweets\n",
    "\talltweets.extend(new_tweets)\n",
    "\t\n",
    "\t#save the id of the oldest tweet less one\n",
    "\toldest = alltweets[-1].id - 1\n",
    "\t\n",
    "\t#keep grabbing tweets until there are no tweets left to grab\n",
    "\twhile len(new_tweets) > 0:\n",
    "\t\t\n",
    "\t\t#all subsiquent requests use the max_id param to prevent duplicates\n",
    "\t\tnew_tweets = api.user_timeline(screen_name = screen_name,count=200,max_id=oldest)\n",
    "\t\t\n",
    "\t\t#save most recent tweets\n",
    "\t\talltweets.extend(new_tweets)\n",
    "\t\t\n",
    "\t\t#update the id of the oldest tweet less one\n",
    "\t\toldest = alltweets[-1].id - 1"
   ]
  },
  {
   "cell_type": "code",
   "execution_count": null,
   "metadata": {},
   "outputs": [],
   "source": [
    "#read the json file and create a dataframe containing text, date and time, no. of likes, no. of RT, no. of images\n",
    "def parse_and_print_json(json_file_name):\n",
    "\n",
    "        message, created_at, favorite_count, retweet_count, image_count=[],[],[],[],[]\n",
    "\n",
    "        with open(json_file_name, 'r') as data_file:\n",
    "            json_data = data_file.read()\n",
    "\n",
    "        tweets = json.loads(json_data)\n",
    "\n",
    "        for tweet in tweets:\n",
    "            message.append(tweet[\"text\"])\n",
    "            created_at.append(tweet[\"created_at\"])\n",
    "            favorite_count.append(tweet[\"favorite_count\"])\n",
    "            retweet_count.append(tweet[\"retweet_count\"])\n",
    "            if \"extended_entities\" in tweet:\n",
    "                image_count.append(len(tweet[\"extended_entities\"][\"media\"]))\n",
    "            else:\n",
    "                image_count.append(0)\n",
    "\n",
    "        df=pd.DataFrame({'Tweet text':message,\n",
    "                        'Created At':created_at,\n",
    "                        'Tweet Favorite Count':favorite_count,\n",
    "                        'Retweet count':retweet_count,\n",
    "                        'No. of images':image_count\n",
    "                        })\n",
    "\n",
    "        print(df)"
   ]
  },
  {
   "cell_type": "code",
   "execution_count": null,
   "metadata": {},
   "outputs": [],
   "source": [
    "if __name__ == '__main__':\n",
    "\t#pass in the username of the account you want to download\n",
    "\tget_all_tweets(\"midasIIITD\")\n",
    "\twith open('json_file.json', \"w\") as file_write:\n",
    "\t\tjson.dump(nfinal, file_write)\n",
    "\n",
    "\tparse_and_print_json('json_file.json')"
   ]
  },
  {
   "cell_type": "code",
   "execution_count": null,
   "metadata": {},
   "outputs": [],
   "source": []
  }
 ],
 "metadata": {
  "kernelspec": {
   "display_name": "Python 3",
   "language": "python",
   "name": "python3"
  },
  "language_info": {
   "codemirror_mode": {
    "name": "ipython",
    "version": 3
   },
   "file_extension": ".py",
   "mimetype": "text/x-python",
   "name": "python",
   "nbconvert_exporter": "python",
   "pygments_lexer": "ipython3",
   "version": "3.6.5"
  }
 },
 "nbformat": 4,
 "nbformat_minor": 2
}
