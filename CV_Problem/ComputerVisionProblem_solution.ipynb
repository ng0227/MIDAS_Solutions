{
 "cells": [
  {
   "cell_type": "code",
   "execution_count": 1,
   "metadata": {},
   "outputs": [],
   "source": [
    "import pickle\n",
    "import pandas as pd\n",
    "from sklearn.preprocessing import StandardScaler\n",
    "from sklearn.naive_bayes import GaussianNB\n",
    "from sklearn.preprocessing import MinMaxScaler\n",
    "\n",
    "\n",
    "def load_data(filename):\n",
    "\tfile = open(filename,'rb')\n",
    "\tdata = pickle.load(file)\n",
    "\tdataF = []\n",
    "\tfor item in data:\n",
    "\t\tdataF.append(item)\n",
    "\n",
    "\tfile.close()\n",
    "\tdf = pd.DataFrame(dataF)\n",
    "\treturn df\n",
    "\n",
    "\n",
    "train_df = load_data('train_image.pkl')\n",
    "train_label_df = load_data('train_label.pkl')\n",
    "train_df[len(train_df.columns)] = train_label_df\n",
    "test_df = load_data('test_image.pkl')\n",
    "\n",
    "\n",
    "x_train = train_df[train_df.columns[0:784]]\n",
    "y_train = train_df[len(train_df.columns)-1]\n",
    "\n",
    "x_test = test_df[test_df.columns[0:784]]\n",
    "\n",
    "sc = MinMaxScaler()\n",
    "x_train = sc.fit_transform(x_train)\n",
    "x_test = sc.transform(x_test)\n",
    "\n",
    "\n",
    "\n",
    "#Create a Gaussian Classifier\n",
    "gnb = GaussianNB()\n",
    "\n",
    "#Train the model using the training sets\n",
    "gnb.fit(x_train, y_train)\n",
    "\n",
    "#Predict the response for test dataset\n",
    "y_pred = gnb.predict(x_test)\n",
    "\n",
    "output = pd.DataFrame()\n",
    "output['class'] = y_pred\n",
    "\n",
    "output.to_csv('namangupta.csv')"
   ]
  },
  {
   "cell_type": "code",
   "execution_count": null,
   "metadata": {},
   "outputs": [],
   "source": []
  }
 ],
 "metadata": {
  "kernelspec": {
   "display_name": "Python 3",
   "language": "python",
   "name": "python3"
  },
  "language_info": {
   "codemirror_mode": {
    "name": "ipython",
    "version": 3
   },
   "file_extension": ".py",
   "mimetype": "text/x-python",
   "name": "python",
   "nbconvert_exporter": "python",
   "pygments_lexer": "ipython3",
   "version": "3.6.5"
  }
 },
 "nbformat": 4,
 "nbformat_minor": 2
}
